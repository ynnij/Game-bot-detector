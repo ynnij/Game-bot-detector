{
 "cells": [
  {
   "cell_type": "code",
   "execution_count": 1,
   "metadata": {},
   "outputs": [
    {
     "name": "stdout",
     "output_type": "stream",
     "text": [
      "cross validation avg:  0.9262716287444681\n",
      "Accuracy:  0.9226645221820131\n",
      "Recall:  0.9577670275666129\n",
      "Precision:  0.9538120363997858\n",
      "F1_score:  0.9557854406130268\n",
      "------ Result------\n",
      "Human : 13077\n",
      "Bot : 1845\n",
      "total : 14922\n"
     ]
    }
   ],
   "source": [
    "import pandas as pd\n",
    "from sklearn.model_selection import train_test_split\n",
    "from sklearn.naive_bayes import GaussianNB\n",
    "import sklearn.metrics as mt\n",
    "from sklearn.model_selection import cross_val_score, cross_validate\n",
    "\n",
    "\n",
    "\n",
    "#탐지할 데이터 셋 설정\n",
    "raw_data = pd.read_csv('Player information features.csv',low_memory=False)\n",
    "train_pre = raw_data[['Login_day_count','Logout_day_count','Playtime','playtime_per_day','avg_money','Login_count','ip_count','Max_level']]\n",
    "\n",
    "Type1 = []\n",
    "\n",
    "for each in raw_data['Type']:\n",
    "    if each == 'Human':\n",
    "        Type1.append(1)\n",
    "    else:\n",
    "        Type1.append(0)\n",
    "        \n",
    "raw_data['Type'] = Type1\n",
    "\n",
    "#훈련셋, 테스트셋 분리\n",
    "x_train, x_test, y_train, y_test = train_test_split(train_pre,raw_data[['Type']],test_size=0.3,random_state=0)\n",
    "\n",
    "#Classifier 선언\n",
    "clf = GaussianNB()\n",
    "clf = clf.fit(x_train,y_train.values.ravel())\n",
    "y_pred = clf.predict(x_test)\n",
    "\n",
    "score = cross_val_score(clf,x_train,y_train.values.ravel(),cv=5)\n",
    "print('cross validation avg: ',score.mean())\n",
    "\n",
    "\n",
    "accuracy = mt.accuracy_score(y_test, y_pred)\n",
    "recall = mt.recall_score(y_test, y_pred)\n",
    "precision = mt.precision_score(y_test, y_pred)\n",
    "f1_score = mt.f1_score(y_test, y_pred)\n",
    "\n",
    "print('Accuracy: ', format(accuracy))\n",
    "print('Recall: ', format(recall))\n",
    "print('Precision: ', format(precision))\n",
    "print('F1_score: ', format(f1_score))\n",
    "\n",
    "#탐지 결과 출력\n",
    "print(\"------ Result------\")\n",
    "i = 1\n",
    "human = 0\n",
    "bot = 0\n",
    "for each in y_pred :\n",
    "    if each == 1:\n",
    "        human+=1\n",
    "    else:\n",
    "        bot+=1\n",
    "    i+=1\n",
    "print(\"Human : %d\" %human)\n",
    "print(\"Bot : %d\" %bot)\n",
    "print(\"total : %d\" %(i-1))\n",
    "\n",
    "\n"
   ]
  },
  {
   "cell_type": "code",
   "execution_count": null,
   "metadata": {},
   "outputs": [],
   "source": []
  },
  {
   "cell_type": "code",
   "execution_count": null,
   "metadata": {},
   "outputs": [],
   "source": []
  },
  {
   "cell_type": "code",
   "execution_count": null,
   "metadata": {},
   "outputs": [],
   "source": []
  }
 ],
 "metadata": {
  "kernelspec": {
   "display_name": "Python 3",
   "language": "python",
   "name": "python3"
  },
  "language_info": {
   "codemirror_mode": {
    "name": "ipython",
    "version": 3
   },
   "file_extension": ".py",
   "mimetype": "text/x-python",
   "name": "python",
   "nbconvert_exporter": "python",
   "pygments_lexer": "ipython3",
   "version": "3.8.3"
  }
 },
 "nbformat": 4,
 "nbformat_minor": 4
}
